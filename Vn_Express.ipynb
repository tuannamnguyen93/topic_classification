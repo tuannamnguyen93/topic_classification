{
  "nbformat": 4,
  "nbformat_minor": 0,
  "metadata": {
    "colab": {
      "name": "Vn_Express.ipynb",
      "version": "0.3.2",
      "views": {},
      "default_view": {},
      "provenance": [],
      "collapsed_sections": []
    },
    "kernelspec": {
      "display_name": "Python 3",
      "language": "python",
      "name": "python3"
    }
  },
  "cells": [
    {
      "metadata": {
        "id": "36F_xj7_ULbc",
        "colab_type": "code",
        "colab": {
          "autoexec": {
            "startup": false,
            "wait_interval": 0
          }
        }
      },
      "cell_type": "code",
      "source": [
        "import os\n",
        "os.getcwd()\n",
        "import pandas as pd\n",
        "import numpy as np\n",
        "import matplotlib.pyplot as plt\n",
        "import scipy\n",
        "from sklearn.model_selection import train_test_split\n",
        "from pyvi import ViTokenizer, ViPosTagger\n",
        "import glob"
      ],
      "execution_count": 0,
      "outputs": []
    },
    {
      "metadata": {
        "id": "3cIv7BB6ULbo",
        "colab_type": "code",
        "colab": {
          "autoexec": {
            "startup": false,
            "wait_interval": 0
          }
        },
        "outputId": "5c0ec51f-30d6-47a8-c4f7-bd465885518f"
      },
      "cell_type": "code",
      "source": [
        "os.getcwd()"
      ],
      "execution_count": 0,
      "outputs": [
        {
          "output_type": "execute_result",
          "data": {
            "text/plain": [
              "'/Users/susu/Desktop/Nuoi'"
            ]
          },
          "metadata": {
            "tags": []
          },
          "execution_count": 2
        }
      ]
    },
    {
      "metadata": {
        "id": "onOC1PToULby",
        "colab_type": "text"
      },
      "cell_type": "markdown",
      "source": [
        "## Read data from file. Split train, test set"
      ]
    },
    {
      "metadata": {
        "id": "lDvHpTXLULb0",
        "colab_type": "code",
        "colab": {
          "autoexec": {
            "startup": false,
            "wait_interval": 0
          }
        }
      },
      "cell_type": "code",
      "source": [
        "import string"
      ],
      "execution_count": 0,
      "outputs": []
    },
    {
      "metadata": {
        "id": "71EYgYftULcQ",
        "colab_type": "code",
        "colab": {
          "autoexec": {
            "startup": false,
            "wait_interval": 0
          }
        }
      },
      "cell_type": "code",
      "source": [
        "path=os.getcwd()\n",
        "i=0\n",
        "X_train=np.asarray([])\n",
        "X_test=np.asarray([])\n",
        "y_train=np.asarray([])\n",
        "y_test=np.asarray([])\n",
        "names=np.asarray([])\n",
        "\n",
        "for file in glob.glob('vnexpress_top200/*.txt'):\n",
        "    f= open('/'.join([path,file]),'r')\n",
        "    content= f.readlines()\n",
        "    content= [x.strip() for x in content]\n",
        "    #content= [remove_punctuation(x) for x in content]\n",
        "    #content = [ViTokenizer.tokenize(x.strip()) for x in content] \n",
        "    content = [x for x in content if len(x)>5]\n",
        "    lable= [i]*len(content)\n",
        "    names=np.append(names,file[17:-4])\n",
        "    X_sub_train, X_sub_test, y_sub_train, y_sub_test= train_test_split(content, lable, test_size=0.2, shuffle=True, random_state=0)\n",
        "    X_train= np.append(X_train, X_sub_train)\n",
        "    X_test= np.append(X_test,X_sub_test)\n",
        "    y_train=np.append(y_train,y_sub_train)\n",
        "    y_test= np.append(y_test,y_sub_test)\n",
        "    i= i+1   \n",
        "    f.close()"
      ],
      "execution_count": 0,
      "outputs": []
    },
    {
      "metadata": {
        "id": "AnamaeChULcS",
        "colab_type": "code",
        "colab": {
          "autoexec": {
            "startup": false,
            "wait_interval": 0
          }
        }
      },
      "cell_type": "code",
      "source": [
        "from sklearn.feature_extraction.text import CountVectorizer, TfidfTransformer\n",
        "from sklearn.pipeline import Pipeline\n",
        "from sklearn import linear_model"
      ],
      "execution_count": 0,
      "outputs": []
    },
    {
      "metadata": {
        "id": "eJZkL6z2ULcU",
        "colab_type": "code",
        "colab": {
          "autoexec": {
            "startup": false,
            "wait_interval": 0
          }
        }
      },
      "cell_type": "code",
      "source": [
        "logistic_model= linear_model.LogisticRegression(C=1000, solver='',multi_class='multinomial',)"
      ],
      "execution_count": 0,
      "outputs": []
    },
    {
      "metadata": {
        "id": "vfm1ONz3ULcX",
        "colab_type": "text"
      },
      "cell_type": "markdown",
      "source": [
        "## Using Logistic Regression to Classify"
      ]
    },
    {
      "metadata": {
        "id": "7Sn5GMTgULcY",
        "colab_type": "code",
        "colab": {
          "autoexec": {
            "startup": false,
            "wait_interval": 0
          }
        }
      },
      "cell_type": "code",
      "source": [
        "\n",
        "text_clf_logistic = Pipeline([('vect', CountVectorizer(ngram_range = (1,2))),('tfidf', TfidfTransformer(sublinear_tf=True)),('clf',logistic_model)])"
      ],
      "execution_count": 0,
      "outputs": []
    },
    {
      "metadata": {
        "id": "pK6_itPjULca",
        "colab_type": "code",
        "colab": {
          "autoexec": {
            "startup": false,
            "wait_interval": 0
          }
        }
      },
      "cell_type": "code",
      "source": [
        "text_clf_logistic = text_clf_logistic.fit(X_train, y_train)"
      ],
      "execution_count": 0,
      "outputs": []
    },
    {
      "metadata": {
        "id": "qXNBZ69WULcc",
        "colab_type": "code",
        "colab": {
          "autoexec": {
            "startup": false,
            "wait_interval": 0
          }
        }
      },
      "cell_type": "code",
      "source": [
        "y_predicted_logistic= text_clf_logistic.predict(X_test\n",
        "                                               )"
      ],
      "execution_count": 0,
      "outputs": []
    },
    {
      "metadata": {
        "id": "5y8cMtYWULce",
        "colab_type": "code",
        "colab": {
          "autoexec": {
            "startup": false,
            "wait_interval": 0
          }
        },
        "outputId": "f8d88e45-444e-48b5-ec46-e69cf56942d0"
      },
      "cell_type": "code",
      "source": [
        "from sklearn.metrics import classification_report\n",
        "from sklearn.metrics import accuracy_score\n",
        "print(classification_report(y_test, y_predicted_logistic, target_names= names))\n",
        "print(accuracy_score(y_test, y_predicted_logistic))"
      ],
      "execution_count": 0,
      "outputs": [
        {
          "output_type": "stream",
          "text": [
            "             precision    recall  f1-score   support\n",
            "\n",
            "    du-lich       0.84      0.84      0.84       104\n",
            "  phap-luat       0.94      0.95      0.95       105\n",
            "khoi-nghiep       0.89      0.95      0.92       106\n",
            " oto-xe-may       0.97      0.96      0.97       104\n",
            "    thoi-su       0.81      0.80      0.80       104\n",
            "       cuoi       0.99      0.94      0.96       102\n",
            "   suc-khoe       0.93      0.95      0.94       101\n",
            "     so-hoa       1.00      0.40      0.57         5\n",
            "   the-thao       0.99      0.98      0.99       104\n",
            "   gia-dinh       0.91      0.83      0.87       104\n",
            " kinh-doanh       0.92      0.86      0.89       102\n",
            "   giai-tri       0.92      0.90      0.91       105\n",
            "   the-gioi       0.91      0.90      0.91       105\n",
            "     tam-su       0.88      1.00      0.93       105\n",
            "   khoa-hoc       0.87      0.90      0.89       105\n",
            "\n",
            "avg / total       0.91      0.91      0.91      1461\n",
            "\n",
            "0.9110198494182067\n"
          ],
          "name": "stdout"
        }
      ]
    },
    {
      "metadata": {
        "id": "7N3-Zw-SULch",
        "colab_type": "text"
      },
      "cell_type": "markdown",
      "source": [
        "## Using SVM to classify data"
      ]
    },
    {
      "metadata": {
        "id": "SG1A9udHULci",
        "colab_type": "code",
        "colab": {
          "autoexec": {
            "startup": false,
            "wait_interval": 0
          }
        }
      },
      "cell_type": "code",
      "source": [
        "from sklearn import multiclass\n",
        "from sklearn.linear_model import SGDClassifier\n",
        "from sklearn import svm"
      ],
      "execution_count": 0,
      "outputs": []
    },
    {
      "metadata": {
        "id": "8Qd4Sx2OULcx",
        "colab_type": "code",
        "colab": {
          "autoexec": {
            "startup": false,
            "wait_interval": 0
          }
        }
      },
      "cell_type": "code",
      "source": [
        "from sklearn import svm\n",
        "svc= svm.SVC(kernel='linear',C=100000)\n",
        "model= multiclass.OneVsRestClassifier(svc)"
      ],
      "execution_count": 0,
      "outputs": []
    },
    {
      "metadata": {
        "id": "23YcASSeULc2",
        "colab_type": "code",
        "colab": {
          "autoexec": {
            "startup": false,
            "wait_interval": 0
          }
        },
        "outputId": "2d495fc7-660c-4a4d-a094-5504ecd3baf8"
      },
      "cell_type": "code",
      "source": [
        "from sklearn.metrics import classification_report\n",
        "from sklearn.decomposition import pca\n",
        "text_clf_svm=  Pipeline([('vect', CountVectorizer(ngram_range = (1,2))),('tfidf',TfidfTransformer()),('clf', model)])\n",
        "text_clf_svm = text_clf_svm.fit(X_train, y_train)\n",
        "y_predicted_svm= text_clf_svm.predict(X_test)\n",
        "print(classification_report(y_test, y_predicted_svm,target_names= names))"
      ],
      "execution_count": 0,
      "outputs": [
        {
          "output_type": "stream",
          "text": [
            "             precision    recall  f1-score   support\n",
            "\n",
            "    du-lich       0.83      0.82      0.83       104\n",
            "  phap-luat       0.94      0.97      0.95       105\n",
            "khoi-nghiep       0.87      0.94      0.90       106\n",
            " oto-xe-may       0.99      0.97      0.98       104\n",
            "    thoi-su       0.82      0.79      0.80       104\n",
            "       cuoi       0.99      0.92      0.95       102\n",
            "   suc-khoe       0.92      0.95      0.94       101\n",
            "     so-hoa       1.00      0.40      0.57         5\n",
            "   the-thao       0.97      0.98      0.98       104\n",
            "   gia-dinh       0.93      0.85      0.88       104\n",
            " kinh-doanh       0.93      0.85      0.89       102\n",
            "   giai-tri       0.90      0.91      0.91       105\n",
            "   the-gioi       0.91      0.91      0.91       105\n",
            "     tam-su       0.91      1.00      0.95       105\n",
            "   khoa-hoc       0.88      0.92      0.90       105\n",
            "\n",
            "avg / total       0.91      0.91      0.91      1461\n",
            "\n"
          ],
          "name": "stdout"
        }
      ]
    },
    {
      "metadata": {
        "id": "n4Z-dVLJULc5",
        "colab_type": "text"
      },
      "cell_type": "markdown",
      "source": [
        "## Using MLP to Classify"
      ]
    },
    {
      "metadata": {
        "id": "5-HxZrIYULc6",
        "colab_type": "code",
        "colab": {
          "autoexec": {
            "startup": false,
            "wait_interval": 0
          }
        }
      },
      "cell_type": "code",
      "source": [
        "from sklearn.neural_network import MLPClassifier"
      ],
      "execution_count": 0,
      "outputs": []
    },
    {
      "metadata": {
        "id": "a3k_XraDULc-",
        "colab_type": "code",
        "colab": {
          "autoexec": {
            "startup": false,
            "wait_interval": 0
          }
        }
      },
      "cell_type": "code",
      "source": [
        "mlp= MLPClassifier(hidden_layer_sizes=(100), activation='logistic',)"
      ],
      "execution_count": 0,
      "outputs": []
    },
    {
      "metadata": {
        "id": "iREM8kLTULdC",
        "colab_type": "code",
        "colab": {
          "autoexec": {
            "startup": false,
            "wait_interval": 0
          }
        },
        "outputId": "599c7257-5b60-4435-a63b-5784e035c84b"
      },
      "cell_type": "code",
      "source": [
        "from sklearn.metrics import classification_report\n",
        "text_clf_mlp=  Pipeline([('vect', CountVectorizer(ngram_range=(2,1))),('tfidf', TfidfTransformer(norm='l2')), ('clf', mlp)])\n",
        "text_clf_mlp= text_clf_mlp.fit(X_train, y_train)\n",
        "y_predicted_mlp= text_clf_mlp.predict(X_test)\n",
        "print(classification_report(y_test, y_predicted_mlp,target_names= names))"
      ],
      "execution_count": 0,
      "outputs": [
        {
          "output_type": "error",
          "ename": "NameError",
          "evalue": "name 'Pipeline' is not defined",
          "traceback": [
            "\u001b[0;31m---------------------------------------------------------------------------\u001b[0m",
            "\u001b[0;31mNameError\u001b[0m                                 Traceback (most recent call last)",
            "\u001b[0;32m<ipython-input-4-eba0c9ba3262>\u001b[0m in \u001b[0;36m<module>\u001b[0;34m()\u001b[0m\n\u001b[1;32m      1\u001b[0m \u001b[0;32mfrom\u001b[0m \u001b[0msklearn\u001b[0m\u001b[0;34m.\u001b[0m\u001b[0mmetrics\u001b[0m \u001b[0;32mimport\u001b[0m \u001b[0mclassification_report\u001b[0m\u001b[0;34m\u001b[0m\u001b[0m\n\u001b[0;32m----> 2\u001b[0;31m \u001b[0mtext_clf_mlp\u001b[0m\u001b[0;34m=\u001b[0m  \u001b[0mPipeline\u001b[0m\u001b[0;34m(\u001b[0m\u001b[0;34m[\u001b[0m\u001b[0;34m(\u001b[0m\u001b[0;34m'vect'\u001b[0m\u001b[0;34m,\u001b[0m \u001b[0mCountVectorizer\u001b[0m\u001b[0;34m(\u001b[0m\u001b[0mngram_range\u001b[0m\u001b[0;34m=\u001b[0m\u001b[0;34m(\u001b[0m\u001b[0;36m2\u001b[0m\u001b[0;34m,\u001b[0m\u001b[0;36m1\u001b[0m\u001b[0;34m)\u001b[0m\u001b[0;34m)\u001b[0m\u001b[0;34m)\u001b[0m\u001b[0;34m,\u001b[0m\u001b[0;34m(\u001b[0m\u001b[0;34m'tfidf'\u001b[0m\u001b[0;34m,\u001b[0m \u001b[0mTfidfTransformer\u001b[0m\u001b[0;34m(\u001b[0m\u001b[0mnorm\u001b[0m\u001b[0;34m=\u001b[0m\u001b[0;34m'l2'\u001b[0m\u001b[0;34m)\u001b[0m\u001b[0;34m)\u001b[0m\u001b[0;34m,\u001b[0m \u001b[0;34m(\u001b[0m\u001b[0;34m'clf'\u001b[0m\u001b[0;34m,\u001b[0m \u001b[0mmlp\u001b[0m\u001b[0;34m)\u001b[0m\u001b[0;34m]\u001b[0m\u001b[0;34m)\u001b[0m\u001b[0;34m\u001b[0m\u001b[0m\n\u001b[0m\u001b[1;32m      3\u001b[0m \u001b[0mtext_clf_mlp\u001b[0m\u001b[0;34m=\u001b[0m \u001b[0mtext_clf_mlp\u001b[0m\u001b[0;34m.\u001b[0m\u001b[0mfit\u001b[0m\u001b[0;34m(\u001b[0m\u001b[0mX_train\u001b[0m\u001b[0;34m,\u001b[0m \u001b[0my_train\u001b[0m\u001b[0;34m)\u001b[0m\u001b[0;34m\u001b[0m\u001b[0m\n\u001b[1;32m      4\u001b[0m \u001b[0my_predicted_mlp\u001b[0m\u001b[0;34m=\u001b[0m \u001b[0mtext_clf_mlp\u001b[0m\u001b[0;34m.\u001b[0m\u001b[0mpredict\u001b[0m\u001b[0;34m(\u001b[0m\u001b[0mX_test\u001b[0m\u001b[0;34m)\u001b[0m\u001b[0;34m\u001b[0m\u001b[0m\n\u001b[1;32m      5\u001b[0m \u001b[0mprint\u001b[0m\u001b[0;34m(\u001b[0m\u001b[0mclassification_report\u001b[0m\u001b[0;34m(\u001b[0m\u001b[0my_test\u001b[0m\u001b[0;34m,\u001b[0m \u001b[0my_predicted_mlp\u001b[0m\u001b[0;34m,\u001b[0m\u001b[0mtarget_names\u001b[0m\u001b[0;34m=\u001b[0m \u001b[0mnames\u001b[0m\u001b[0;34m)\u001b[0m\u001b[0;34m)\u001b[0m\u001b[0;34m\u001b[0m\u001b[0m\n",
            "\u001b[0;31mNameError\u001b[0m: name 'Pipeline' is not defined"
          ]
        }
      ]
    },
    {
      "metadata": {
        "id": "NMDZJH32ULdG",
        "colab_type": "code",
        "colab": {
          "autoexec": {
            "startup": false,
            "wait_interval": 0
          }
        }
      },
      "cell_type": "code",
      "source": [
        "import pickle\n",
        "filename = 'logistic_model.sav'\n",
        "pickle.dump(text_clf_logistic, open(filename, 'wb'))\n",
        "names"
      ],
      "execution_count": 0,
      "outputs": []
    },
    {
      "metadata": {
        "id": "CmMTmxypULdI",
        "colab_type": "code",
        "colab": {
          "autoexec": {
            "startup": false,
            "wait_interval": 0
          }
        }
      },
      "cell_type": "code",
      "source": [
        "import pickle\n",
        "filename = 'svm_model.sav'\n",
        "pickle.dump(text_clf_svm, open(filename, 'wb'))"
      ],
      "execution_count": 0,
      "outputs": []
    },
    {
      "metadata": {
        "id": "g6BrxgvLULdK",
        "colab_type": "code",
        "colab": {
          "autoexec": {
            "startup": false,
            "wait_interval": 0
          }
        }
      },
      "cell_type": "code",
      "source": [
        "import pickle\n",
        "filename = 'mlp_model.sav'\n",
        "pickle.dump(text_clf_mlp, open(filename, 'wb'))\n"
      ],
      "execution_count": 0,
      "outputs": []
    },
    {
      "metadata": {
        "id": "lk_O4_77ULdL",
        "colab_type": "code",
        "colab": {
          "autoexec": {
            "startup": false,
            "wait_interval": 0
          }
        }
      },
      "cell_type": "code",
      "source": [
        "def predict(news, model):\n",
        "    news= ViTokenizer.tokenize(news)\n",
        "    news= [news]\n",
        "    lable= model.predict(news)\n",
        "    return names[int(lable)]"
      ],
      "execution_count": 0,
      "outputs": []
    },
    {
      "metadata": {
        "id": "1S-RVnwPULdN",
        "colab_type": "code",
        "colab": {
          "autoexec": {
            "startup": false,
            "wait_interval": 0
          }
        }
      },
      "cell_type": "code",
      "source": [
        "filename='svm_model.sav'\n",
        "loaded_model = pickle.load(open(filename, 'rb'))"
      ],
      "execution_count": 0,
      "outputs": []
    },
    {
      "metadata": {
        "id": "q_uF5UxoULdf",
        "colab_type": "code",
        "colab": {
          "autoexec": {
            "startup": false,
            "wait_interval": 0
          }
        }
      },
      "cell_type": "code",
      "source": [
        ""
      ],
      "execution_count": 0,
      "outputs": []
    }
  ]
}